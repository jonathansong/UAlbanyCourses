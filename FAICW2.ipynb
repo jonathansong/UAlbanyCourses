{
 "cells": [
  {
   "cell_type": "markdown",
   "metadata": {},
   "source": [
    "# FAI Coursework Two\n",
    "# Introduction\n",
    "\n",
    "\n",
    "The questions are based on the machine learning algorithms covered in labs. Students are expected to indentify the correct syntax to import modules and call functions. Students are aslo expected to evaluate the performance of different algorithms. \n",
    "\n",
    "\n",
    "# Marks\n",
    "\n",
    "Coursework 2 accounts for 10% of the COMP1037 marks. Corresponding marks will be awarded for answering each of the sub-questions in `FAIcw2.ipynb`. Report should be written using this file as the template.\n",
    "\n",
    "1. Answer questions using `Markdown` cell.\n",
    "2. Use `Code` cell to input your code. \n",
    "**Note: (a). please run your code in the notebook and upload your notebook together with all the outputs. (b). avoid using problem setting requires more than 2 mins to get the output. (c). Please only import the packages that are offered in our coursework folder. (d). If you import external pacakges, we will remove that and mark your code with the remaining code. **\n",
    "\n",
    "\n",
    "# Plagiarism vs. Group Discussions\n",
    "\n",
    "As you should know, there is no tolerance of plagiarism, and any breach of which will be dealt with according to the University's standard policies. Please be very careful not to cross the boundary into plagiarism while having general discussions regarding the coursework to promote the generation of new ideas and to enhance the learning experience. The important part is that when you sit down to actually do the work and write the answers, you do it individually. If you do this, and you truly understand what you have written, you will not be guilty of plagiarism. Do NOT, under any circumstances, share code or share figures, graphs or charts, etc.\n",
    "\n",
    "# Deadline and submission procedure \n",
    "\n",
    "## <span style=\"background-image: linear-gradient(to right, #FF22AA, #FF9264, #FFFF66, #64FFB4, #00A2FF); font-weight:bold; color:white; text-shadow: -1px 0 black, 0 1px black, 1px 0 black, 0 -1px black;\">20 marks deducted for not submitting as required！</span>\n",
    "The submission deadline is 17:00pm on the <font color=red> **9th  May 2023** </font> via Moodle. Late submission results into a 5% reduction of your coursework mark for each weekday. Any work handed in after the 11:59pm of 12th May will receive zero marks.\n",
    "\n",
    "Name your submission file: <font color=red>FAICW2-XXX.ipynb</font>, where XXX should be your student ID number, for instance, FAICW2-20415678.ipynb, and submit a single file via Moodle.\n",
    "\n",
    "If you can’t submit your coursework on time due to Extenuating Circumstances, please contact your personal tutor first. I am only granting an extension of submission based on his / her recommendation."
   ]
  },
  {
   "cell_type": "markdown",
   "metadata": {},
   "source": [
    "## Part I. Diabetes Classification\n",
    "Answer the following questions related to the *Diabetes Classification Data*\n",
    "The Diabetes prediction dataset is a collection of medical and demographic data from patients, along with their diabetes status (positive or negative). The data includes features such as age, gender, body mass index (BMI), hypertension, heart disease, smoking history, HbA1c level, and blood glucose level. This dataset can be used to build machine learning models to predict diabetes in patients based on their medical history and demographic information. \n"
   ]
  },
  {
   "cell_type": "markdown",
   "metadata": {},
   "source": [
    "### [5 Marks] 1. Import necessary modules for the questions below. "
   ]
  },
  {
   "cell_type": "code",
   "execution_count": null,
   "metadata": {},
   "outputs": [],
   "source": []
  },
  {
   "cell_type": "markdown",
   "metadata": {},
   "source": [
    "### [10 Marks] 2. In the code cell below, load the data and define a name for the data. The first row is the attribute name for each attribute. Please delete this row from your dataset for future use. Print the inputs, target, the first example, and the possible values for the target."
   ]
  },
  {
   "cell_type": "code",
   "execution_count": null,
   "metadata": {},
   "outputs": [],
   "source": []
  },
  {
   "cell_type": "markdown",
   "metadata": {},
   "source": [
    "### [10 Marks] 3. Note that features \"gender\" and \"smoking_history\" are string data. We need to convert these data to numerical data to use machine learning methods. Write a code to convert the following changes:\n",
    "\"gender\":\n",
    "\n",
    "|  Original value   | New value  |\n",
    "|-----|:-----:|\n",
    "| female  | 0 |\n",
    "| male    | 1 |\n",
    "\n",
    "\"smoking_history\" :\n",
    "\n",
    "|  Original value   | New value  |\n",
    "|  ----   | ----  |\n",
    "| No Info | 0 |\n",
    "| never   | 1 |\n",
    "| former  | 2 |\n",
    "| not current | 3 |\n",
    "| current | 4 |\n",
    "| ever    | 5 |"
   ]
  },
  {
   "cell_type": "code",
   "execution_count": null,
   "metadata": {},
   "outputs": [],
   "source": []
  },
  {
   "cell_type": "markdown",
   "metadata": {},
   "source": [
    "\n",
    "### [15 Marks] 4. In the code cell below, choose 3 learning algorithms (other than KNN, Naive Bayes) to predict the top 10 instances in the test file."
   ]
  },
  {
   "cell_type": "code",
   "execution_count": null,
   "metadata": {},
   "outputs": [],
   "source": []
  },
  {
   "cell_type": "markdown",
   "metadata": {},
   "source": [
    "### [15 Marks] 5. In the code cell below, consider the top 10,000 examples in the training dataset, use 3 different K values of KNN and demonstrate the best K value for KNN in terms of error ratio. Please use the cross validation method to split training and testing data.\n"
   ]
  },
  {
   "cell_type": "code",
   "execution_count": null,
   "metadata": {},
   "outputs": [],
   "source": []
  },
  {
   "cell_type": "markdown",
   "metadata": {},
   "source": [
    "### [10 Marks] 6.In the code cell below, find out how many of examples for each target value in the training file."
   ]
  },
  {
   "cell_type": "code",
   "execution_count": null,
   "metadata": {},
   "outputs": [],
   "source": []
  },
  {
   "cell_type": "markdown",
   "metadata": {},
   "source": [
    "### [15 Marks] 7. In the code cell below, show the error ratio of discrete and continuous naive bayes. Use another markdown cell to explain which one is better and why it is better.\n"
   ]
  },
  {
   "cell_type": "code",
   "execution_count": null,
   "metadata": {},
   "outputs": [],
   "source": []
  },
  {
   "cell_type": "code",
   "execution_count": null,
   "metadata": {},
   "outputs": [],
   "source": []
  },
  {
   "cell_type": "markdown",
   "metadata": {},
   "source": [
    "## Part II. Answer the following questions related to the MDP problem.\n",
    "\n",
    "Consider the following 3-state MDP(Markov Decision Process) for a robot trying to walk, the three states being \"Fallen\", \"Standing\" and \"Moving\", as shown in the following figure.There are two acts available: \n",
    "Action A: Moving robot legs slowly(black)\n",
    "Action B: Moving robt legs fast (green). \n",
    "The probability and rewards are shown in the figure below.\n",
    "\n",
    "<img src=\"images/robotWalking2.png\" width=\"500px\">\n",
    "\n",
    "Use the MDP formulation to code the  problem and find the optimal Values using the value iteration algorithm, then find the optimal policy for each state with discount factor of 0.9.\n"
   ]
  },
  {
   "cell_type": "markdown",
   "metadata": {},
   "source": [
    "### [20 Marks] Import necessary modules and calculte the optimal value and optimal policy for each state using epsilon of 0.001 and gamma of 0.9. You may use multiple cells to answer this question."
   ]
  },
  {
   "cell_type": "code",
   "execution_count": null,
   "metadata": {},
   "outputs": [],
   "source": []
  },
  {
   "cell_type": "code",
   "execution_count": null,
   "metadata": {},
   "outputs": [],
   "source": []
  }
 ],
 "metadata": {
  "kernelspec": {
   "display_name": "Python 3 (ipykernel)",
   "language": "python",
   "name": "python3"
  },
  "language_info": {
   "codemirror_mode": {
    "name": "ipython",
    "version": 3
   },
   "file_extension": ".py",
   "mimetype": "text/x-python",
   "name": "python",
   "nbconvert_exporter": "python",
   "pygments_lexer": "ipython3",
   "version": "3.10.9"
  },
  "pycharm": {
   "stem_cell": {
    "cell_type": "raw",
    "metadata": {
     "collapsed": false
    },
    "source": []
   }
  },
  "vscode": {
   "interpreter": {
    "hash": "cd78fef2128015050713e82ca51c6520b11aee7c9ee8df750520bbbc7384cbaa"
   }
  }
 },
 "nbformat": 4,
 "nbformat_minor": 2
}
